{
 "metadata": {
  "language_info": {
   "codemirror_mode": {
    "name": "ipython",
    "version": 3
   },
   "file_extension": ".py",
   "mimetype": "text/x-python",
   "name": "python",
   "nbconvert_exporter": "python",
   "pygments_lexer": "ipython3",
   "version": "3.8.6-final"
  },
  "orig_nbformat": 2,
  "kernelspec": {
   "name": "Python 3.8.6 64-bit ('.env')",
   "display_name": "Python 3.8.6 64-bit ('.env')",
   "metadata": {
    "interpreter": {
     "hash": "e8f5fa8a08114ccb26898b442020c1ab03631e137993906b83593e9aa9e1b754"
    }
   }
  }
 },
 "nbformat": 4,
 "nbformat_minor": 2,
 "cells": [
  {
   "source": [
    "# Data preprocessing: Wine Dataset\n",
    "\n",
    "## Abstract\n",
    "\n",
    "Data analysis of *Wine* dataset, focusing into data preprocessing to build a optimal classifier using *Kmeans*.\n",
    "\n",
    "## Introduction\n",
    "\n",
    "First we will go in deep about the basic information of the dataset. Sometimes our dataset comes with useful information about itself saving us time. Then we have to do a stadistic analysis of our data and his general characteristics to treat the data with the necessary methods, cleaning out bad *features*, *examples* and redundant imformation which can have a big impact in the performance of our classifier.\n",
    "\n",
    "## Methodology\n",
    "\n",
    "We will do this analysis using *python* and *jupyter notebooks* using the most us libraries as *numpy*, *matplotlib*, *pandas*, and *seaborn*"
   ],
   "cell_type": "markdown",
   "metadata": {}
  },
  {
   "source": [
    "## Installing necessary libs"
   ],
   "cell_type": "markdown",
   "metadata": {}
  },
  {
   "cell_type": "code",
   "execution_count": 7,
   "metadata": {},
   "outputs": [],
   "source": [
    "# !pip install numpy\n",
    "# !pip install pandas\n",
    "# !pip install matplotlib\n",
    "# !pip install seaborn\n",
    "# !pip install scikit-learn"
   ]
  },
  {
   "cell_type": "code",
   "execution_count": 6,
   "metadata": {},
   "outputs": [],
   "source": [
    "import numpy as np\n",
    "import pandas as pd\n",
    "import matplotlib as plt\n",
    "import seaborn as sns\n",
    "from sklearn.cluster import KMeans"
   ]
  }
 ]
}